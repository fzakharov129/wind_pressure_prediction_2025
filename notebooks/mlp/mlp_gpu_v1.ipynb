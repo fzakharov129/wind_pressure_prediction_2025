{
 "cells": [
  {
   "cell_type": "code",
   "execution_count": null,
   "id": "5c04a5b4",
   "metadata": {
    "execution": {
     "iopub.execute_input": "2025-05-15T07:37:13.595906Z",
     "iopub.status.busy": "2025-05-15T07:37:13.595152Z",
     "iopub.status.idle": "2025-05-15T07:37:21.644023Z",
     "shell.execute_reply": "2025-05-15T07:37:21.643239Z"
    },
    "papermill": {
     "duration": 8.054045,
     "end_time": "2025-05-15T07:37:21.645488",
     "exception": false,
     "start_time": "2025-05-15T07:37:13.591443",
     "status": "completed"
    },
    "tags": []
   },
   "outputs": [],
   "source": [
    "# 📦 Imports and Configuration\n",
    "\n",
    "import os\n",
    "import json\n",
    "import numpy as np\n",
    "import pandas as pd\n",
    "import matplotlib.pyplot as plt\n",
    "import seaborn as sns\n",
    "\n",
    "from sklearn.model_selection import train_test_split\n",
    "from sklearn.metrics import mean_squared_error, mean_absolute_error, r2_score\n",
    "\n",
    "import torch\n",
    "import torch.nn as nn\n",
    "import torch.optim as optim\n",
    "from tqdm import tqdm\n",
    "\n",
    "sns.set(style=\"whitegrid\")"
   ]
  },
  {
   "cell_type": "code",
   "execution_count": null,
   "id": "27fff865",
   "metadata": {
    "execution": {
     "iopub.execute_input": "2025-05-15T07:37:21.650578Z",
     "iopub.status.busy": "2025-05-15T07:37:21.650224Z",
     "iopub.status.idle": "2025-05-15T07:37:21.655809Z",
     "shell.execute_reply": "2025-05-15T07:37:21.655318Z"
    },
    "papermill": {
     "duration": 0.009005,
     "end_time": "2025-05-15T07:37:21.656790",
     "exception": false,
     "start_time": "2025-05-15T07:37:21.647785",
     "status": "completed"
    },
    "tags": []
   },
   "outputs": [],
   "source": [
    "# 📁 src/setup_paths.py\n",
    "# ➤ Initialization of DATA_PATH, SAVE_ROOT, and result directories\n",
    "\n",
    "#DATA_PATH = \"/kaggle/input/wind-pressure-prediction-2025/windloading_interference_base.csv\"\n",
    "#SAVE_ROOT = \"/kaggle/working\"\n",
    "\n",
    "DATA_PATH = \"/mnt/d/projects/wind_pressure_prediction_2025/data/processed/windloading_interference_base.csv\"\n",
    "SAVE_ROOT = \"/mnt/d/projects/wind_pressure_prediction_2025\"\n",
    "\n",
    "LOG_DIR = os.path.join(SAVE_ROOT, \"results\", \"logs\")\n",
    "WEIGHTS_DIR = os.path.join(SAVE_ROOT, \"models\", \"weights\")\n",
    "CONFIG_DIR = os.path.join(SAVE_ROOT, \"models\", \"configs\")\n",
    "METRICS_DIR = os.path.join(SAVE_ROOT, \"results\", \"metrics\")\n",
    "FIGURES_DIR = os.path.join(SAVE_ROOT, \"results\", \"figures\")\n",
    "\n",
    "os.makedirs(LOG_DIR, exist_ok=True)\n",
    "os.makedirs(WEIGHTS_DIR, exist_ok=True)\n",
    "os.makedirs(CONFIG_DIR, exist_ok=True)\n",
    "os.makedirs(METRICS_DIR, exist_ok=True)\n",
    "os.makedirs(FIGURES_DIR, exist_ok=True)"
   ]
  },
  {
   "cell_type": "code",
   "execution_count": null,
   "id": "6192e1b8",
   "metadata": {
    "execution": {
     "iopub.execute_input": "2025-05-15T07:37:21.660861Z",
     "iopub.status.busy": "2025-05-15T07:37:21.660672Z",
     "iopub.status.idle": "2025-05-15T07:37:21.663817Z",
     "shell.execute_reply": "2025-05-15T07:37:21.663337Z"
    },
    "papermill": {
     "duration": 0.006178,
     "end_time": "2025-05-15T07:37:21.664743",
     "exception": false,
     "start_time": "2025-05-15T07:37:21.658565",
     "status": "completed"
    },
    "tags": []
   },
   "outputs": [],
   "source": [
    "# 📁 src/data/load_dataset.py\n",
    "# ➤ Function for loading the dataset from CSV\n",
    "\n",
    "def load_dataset():\n",
    "    df = pd.read_csv(DATA_PATH)\n",
    "    print(f\"Dataset loaded: {df.shape[0]} rows, {df.shape[1]} columns\")\n",
    "    return df"
   ]
  },
  {
   "cell_type": "code",
   "execution_count": null,
   "id": "5df5cbb8",
   "metadata": {
    "execution": {
     "iopub.execute_input": "2025-05-15T07:37:21.668735Z",
     "iopub.status.busy": "2025-05-15T07:37:21.668557Z",
     "iopub.status.idle": "2025-05-15T07:37:21.672211Z",
     "shell.execute_reply": "2025-05-15T07:37:21.671680Z"
    },
    "papermill": {
     "duration": 0.006812,
     "end_time": "2025-05-15T07:37:21.673227",
     "exception": false,
     "start_time": "2025-05-15T07:37:21.666415",
     "status": "completed"
    },
    "tags": []
   },
   "outputs": [],
   "source": [
    "# 📁 src/metrics/regression_metrics.py\n",
    "# ➤ Function to compute regression metrics: MSE, MAE, R²\n",
    "\n",
    "def evaluate_regression(y_true, y_pred):\n",
    "    y_true_np = y_true.detach().cpu().numpy()\n",
    "    y_pred_np = y_pred.detach().cpu().numpy()\n",
    "\n",
    "    mse = mean_squared_error(y_true_np, y_pred_np)\n",
    "    mae = mean_absolute_error(y_true_np, y_pred_np)\n",
    "    r2 = r2_score(y_true_np, y_pred_np)\n",
    "\n",
    "    return {\"MSE\": mse, \"MAE\": mae, \"R2\": r2}"
   ]
  },
  {
   "cell_type": "code",
   "execution_count": null,
   "id": "6beebd65",
   "metadata": {
    "execution": {
     "iopub.execute_input": "2025-05-15T07:37:21.677674Z",
     "iopub.status.busy": "2025-05-15T07:37:21.677127Z",
     "iopub.status.idle": "2025-05-15T07:37:21.681056Z",
     "shell.execute_reply": "2025-05-15T07:37:21.680547Z"
    },
    "papermill": {
     "duration": 0.007087,
     "end_time": "2025-05-15T07:37:21.681986",
     "exception": false,
     "start_time": "2025-05-15T07:37:21.674899",
     "status": "completed"
    },
    "tags": []
   },
   "outputs": [],
   "source": [
    "# 📁 src/models/mlp_model.py\n",
    "# ➤ Definition of the MLP architecture \n",
    "\n",
    "class MLP(nn.Module):\n",
    "    def __init__(self, input_dim, hidden_dim, output_dim):\n",
    "        super(MLP, self).__init__()\n",
    "        self.model = nn.Sequential(\n",
    "            nn.Linear(input_dim, hidden_dim),\n",
    "            nn.ReLU(),\n",
    "            nn.Linear(hidden_dim, hidden_dim),\n",
    "            nn.ReLU(),\n",
    "            nn.Linear(hidden_dim, output_dim)\n",
    "        )\n",
    "\n",
    "    def forward(self, x):\n",
    "        return self.model(x)"
   ]
  },
  {
   "cell_type": "code",
   "execution_count": null,
   "id": "a943e4aa",
   "metadata": {
    "execution": {
     "iopub.execute_input": "2025-05-15T07:37:21.685901Z",
     "iopub.status.busy": "2025-05-15T07:37:21.685730Z",
     "iopub.status.idle": "2025-05-15T07:37:21.692558Z",
     "shell.execute_reply": "2025-05-15T07:37:21.692000Z"
    },
    "papermill": {
     "duration": 0.009874,
     "end_time": "2025-05-15T07:37:21.693519",
     "exception": false,
     "start_time": "2025-05-15T07:37:21.683645",
     "status": "completed"
    },
    "tags": []
   },
   "outputs": [],
   "source": [
    "# 📁 src/visualization/plot_metrics.py\n",
    "# ➤ Visualization of prediction results and training loss\n",
    "\n",
    "def plot_metrics(y_true, y_pred, train_loss_history, val_loss_history, model_name: str, save_dir=FIGURES_DIR, show=False):\n",
    "\n",
    "    if hasattr(y_true, \"detach\"):\n",
    "        y_true = y_true.detach().cpu().numpy()\n",
    "    if hasattr(y_pred, \"detach\"):\n",
    "        y_pred = y_pred.detach().cpu().numpy()\n",
    "\n",
    "    epochs = np.arange(1, len(train_loss_history) + 1)\n",
    "    fig, axes = plt.subplots(1, 3, figsize=(18, 5))\n",
    "        \n",
    "    # 1. Scatter\n",
    "    axes[0].scatter(y_true, y_pred, alpha=0.5, color='royalblue')\n",
    "    axes[0].plot([y_true.min(), y_true.max()], [y_true.min(), y_true.max()], 'r--')\n",
    "    axes[0].set_title(\"Predicted vs True, Cp\")\n",
    "    axes[0].set_xlabel(\"True\")\n",
    "    axes[0].set_ylabel(\"Predicted\")\n",
    "\n",
    "    # 2. Residuals Histogram\n",
    "    errors = (y_pred - y_true).flatten() \n",
    "    sns.histplot(errors, bins=50, kde=True, ax=axes[1], color='skyblue', edgecolor='black')\n",
    "    axes[1].axvline(0, color='red', linestyle='--', linewidth=2)\n",
    "    axes[1].set_title(\"Prediction Error Distribution, Cp\")\n",
    "    axes[1].set_xlabel(\"Error\")\n",
    "    axes[1].set_ylabel(\"Count\")\n",
    "\n",
    "    # 3. Train loss\n",
    "    axes[2].plot(epochs, train_loss_history, label='Train Loss', color='green')\n",
    "    axes[2].set_title(\"Training Loss, Cp\")\n",
    "    axes[2].set_xlabel(\"Epoch\")\n",
    "    axes[2].set_ylabel(\"Loss\")\n",
    "    axes[2].legend()\n",
    "\n",
    "    # Save\n",
    "    os.makedirs(save_dir, exist_ok=True)\n",
    "    save_path = os.path.join(save_dir, f\"{model_name}_metrics.png\")\n",
    "    plt.tight_layout()\n",
    "    plt.savefig(save_path)\n",
    "    if show:\n",
    "        plt.show()\n",
    "    plt.close()\n",
    "\n",
    "    print(f\"📊 Metric saved: {save_path}\")\n",
    "    return save_path\n"
   ]
  },
  {
   "cell_type": "code",
   "execution_count": null,
   "id": "4b3454cc",
   "metadata": {
    "execution": {
     "iopub.execute_input": "2025-05-15T07:37:21.697670Z",
     "iopub.status.busy": "2025-05-15T07:37:21.697378Z",
     "iopub.status.idle": "2025-05-15T07:37:33.308971Z",
     "shell.execute_reply": "2025-05-15T07:37:33.308245Z"
    },
    "papermill": {
     "duration": 11.6177,
     "end_time": "2025-05-15T07:37:33.312840",
     "exception": false,
     "start_time": "2025-05-15T07:37:21.695140",
     "status": "completed"
    },
    "tags": []
   },
   "outputs": [
    {
     "name": "stdout",
     "output_type": "stream",
     "text": [
      "Dataset loaded: 151392 rows, 15 columns\n",
      "🖥 Используемое устройство: cpu\n",
      "Number of matching rows: 0\n"
     ]
    },
    {
     "name": "stderr",
     "output_type": "stream",
     "text": [
      "Epochs:   2%|▏         | 12/500 [00:01<00:44, 10.92it/s]"
     ]
    },
    {
     "name": "stdout",
     "output_type": "stream",
     "text": [
      "Epoch [10/500], Loss: 12.0590\n"
     ]
    },
    {
     "name": "stderr",
     "output_type": "stream",
     "text": [
      "Epochs:   4%|▍         | 22/500 [00:02<00:42, 11.38it/s]"
     ]
    },
    {
     "name": "stdout",
     "output_type": "stream",
     "text": [
      "Epoch [20/500], Loss: 2.7142\n"
     ]
    },
    {
     "name": "stderr",
     "output_type": "stream",
     "text": [
      "Epochs:   6%|▋         | 32/500 [00:03<00:40, 11.57it/s]"
     ]
    },
    {
     "name": "stdout",
     "output_type": "stream",
     "text": [
      "Epoch [30/500], Loss: 0.3660\n"
     ]
    },
    {
     "name": "stderr",
     "output_type": "stream",
     "text": [
      "Epochs:   8%|▊         | 42/500 [00:03<00:40, 11.28it/s]"
     ]
    },
    {
     "name": "stdout",
     "output_type": "stream",
     "text": [
      "Epoch [40/500], Loss: 0.9461\n"
     ]
    },
    {
     "name": "stderr",
     "output_type": "stream",
     "text": [
      "Epochs:  10%|█         | 52/500 [00:04<00:40, 11.05it/s]"
     ]
    },
    {
     "name": "stdout",
     "output_type": "stream",
     "text": [
      "Epoch [50/500], Loss: 0.3339\n"
     ]
    },
    {
     "name": "stderr",
     "output_type": "stream",
     "text": [
      "Epochs:  12%|█▏        | 62/500 [00:05<00:41, 10.68it/s]"
     ]
    },
    {
     "name": "stdout",
     "output_type": "stream",
     "text": [
      "Epoch [60/500], Loss: 0.2306\n"
     ]
    },
    {
     "name": "stderr",
     "output_type": "stream",
     "text": [
      "Epochs:  14%|█▍        | 72/500 [00:06<00:40, 10.45it/s]"
     ]
    },
    {
     "name": "stdout",
     "output_type": "stream",
     "text": [
      "Epoch [70/500], Loss: 0.2443\n"
     ]
    },
    {
     "name": "stderr",
     "output_type": "stream",
     "text": [
      "Epochs:  16%|█▋        | 82/500 [00:07<00:39, 10.61it/s]"
     ]
    },
    {
     "name": "stdout",
     "output_type": "stream",
     "text": [
      "Epoch [80/500], Loss: 0.2047\n"
     ]
    },
    {
     "name": "stderr",
     "output_type": "stream",
     "text": [
      "Epochs:  18%|█▊        | 91/500 [00:08<00:41,  9.80it/s]"
     ]
    },
    {
     "name": "stdout",
     "output_type": "stream",
     "text": [
      "Epoch [90/500], Loss: 0.1984\n"
     ]
    },
    {
     "name": "stderr",
     "output_type": "stream",
     "text": [
      "Epochs:  20%|██        | 101/500 [00:09<00:42,  9.44it/s]"
     ]
    },
    {
     "name": "stdout",
     "output_type": "stream",
     "text": [
      "Epoch [100/500], Loss: 0.1743\n"
     ]
    },
    {
     "name": "stderr",
     "output_type": "stream",
     "text": [
      "Epochs:  22%|██▏       | 111/500 [00:10<00:42,  9.06it/s]"
     ]
    },
    {
     "name": "stdout",
     "output_type": "stream",
     "text": [
      "Epoch [110/500], Loss: 0.1611\n"
     ]
    },
    {
     "name": "stderr",
     "output_type": "stream",
     "text": [
      "Epochs:  24%|██▍       | 122/500 [00:11<00:37, 10.01it/s]"
     ]
    },
    {
     "name": "stdout",
     "output_type": "stream",
     "text": [
      "Epoch [120/500], Loss: 0.1414\n"
     ]
    },
    {
     "name": "stderr",
     "output_type": "stream",
     "text": [
      "Epochs:  26%|██▋       | 132/500 [00:12<00:35, 10.28it/s]"
     ]
    },
    {
     "name": "stdout",
     "output_type": "stream",
     "text": [
      "Epoch [130/500], Loss: 0.1348\n"
     ]
    },
    {
     "name": "stderr",
     "output_type": "stream",
     "text": [
      "Epochs:  28%|██▊       | 142/500 [00:13<00:34, 10.28it/s]"
     ]
    },
    {
     "name": "stdout",
     "output_type": "stream",
     "text": [
      "Epoch [140/500], Loss: 0.1274\n"
     ]
    },
    {
     "name": "stderr",
     "output_type": "stream",
     "text": [
      "Epochs:  30%|███       | 152/500 [00:14<00:34, 10.07it/s]"
     ]
    },
    {
     "name": "stdout",
     "output_type": "stream",
     "text": [
      "Epoch [150/500], Loss: 0.1212\n"
     ]
    },
    {
     "name": "stderr",
     "output_type": "stream",
     "text": [
      "Epochs:  32%|███▏      | 162/500 [00:15<00:31, 10.75it/s]"
     ]
    },
    {
     "name": "stdout",
     "output_type": "stream",
     "text": [
      "Epoch [160/500], Loss: 0.1161\n"
     ]
    },
    {
     "name": "stderr",
     "output_type": "stream",
     "text": [
      "Epochs:  34%|███▍      | 172/500 [00:16<00:31, 10.58it/s]"
     ]
    },
    {
     "name": "stdout",
     "output_type": "stream",
     "text": [
      "Epoch [170/500], Loss: 0.1103\n"
     ]
    },
    {
     "name": "stderr",
     "output_type": "stream",
     "text": [
      "Epochs:  36%|███▋      | 182/500 [00:17<00:30, 10.60it/s]"
     ]
    },
    {
     "name": "stdout",
     "output_type": "stream",
     "text": [
      "Epoch [180/500], Loss: 0.1102\n"
     ]
    },
    {
     "name": "stderr",
     "output_type": "stream",
     "text": [
      "Epochs:  38%|███▊      | 190/500 [00:18<00:29, 10.37it/s]"
     ]
    },
    {
     "name": "stdout",
     "output_type": "stream",
     "text": [
      "Epoch [190/500], Loss: 0.1032\n"
     ]
    },
    {
     "name": "stderr",
     "output_type": "stream",
     "text": [
      "Epochs:  40%|████      | 202/500 [00:19<00:29, 10.26it/s]"
     ]
    },
    {
     "name": "stdout",
     "output_type": "stream",
     "text": [
      "Epoch [200/500], Loss: 0.0989\n"
     ]
    },
    {
     "name": "stderr",
     "output_type": "stream",
     "text": [
      "Epochs:  42%|████▏     | 212/500 [00:20<00:28, 10.15it/s]"
     ]
    },
    {
     "name": "stdout",
     "output_type": "stream",
     "text": [
      "Epoch [210/500], Loss: 0.0973\n"
     ]
    },
    {
     "name": "stderr",
     "output_type": "stream",
     "text": [
      "Epochs:  44%|████▍     | 222/500 [00:21<00:27,  9.93it/s]"
     ]
    },
    {
     "name": "stdout",
     "output_type": "stream",
     "text": [
      "Epoch [220/500], Loss: 0.0945\n"
     ]
    },
    {
     "name": "stderr",
     "output_type": "stream",
     "text": [
      "Epochs:  46%|████▋     | 232/500 [00:22<00:25, 10.39it/s]"
     ]
    },
    {
     "name": "stdout",
     "output_type": "stream",
     "text": [
      "Epoch [230/500], Loss: 0.0921\n"
     ]
    },
    {
     "name": "stderr",
     "output_type": "stream",
     "text": [
      "Epochs:  48%|████▊     | 242/500 [00:23<00:24, 10.49it/s]"
     ]
    },
    {
     "name": "stdout",
     "output_type": "stream",
     "text": [
      "Epoch [240/500], Loss: 0.0971\n"
     ]
    },
    {
     "name": "stderr",
     "output_type": "stream",
     "text": [
      "Epochs:  50%|█████     | 252/500 [00:24<00:23, 10.36it/s]"
     ]
    },
    {
     "name": "stdout",
     "output_type": "stream",
     "text": [
      "Epoch [250/500], Loss: 0.0881\n"
     ]
    },
    {
     "name": "stderr",
     "output_type": "stream",
     "text": [
      "Epochs:  52%|█████▏    | 262/500 [00:25<00:22, 10.46it/s]"
     ]
    },
    {
     "name": "stdout",
     "output_type": "stream",
     "text": [
      "Epoch [260/500], Loss: 0.0866\n"
     ]
    },
    {
     "name": "stderr",
     "output_type": "stream",
     "text": [
      "Epochs:  54%|█████▍    | 272/500 [00:26<00:22, 10.09it/s]"
     ]
    },
    {
     "name": "stdout",
     "output_type": "stream",
     "text": [
      "Epoch [270/500], Loss: 0.0848\n"
     ]
    },
    {
     "name": "stderr",
     "output_type": "stream",
     "text": [
      "Epochs:  56%|█████▌    | 281/500 [00:27<00:22,  9.87it/s]"
     ]
    },
    {
     "name": "stdout",
     "output_type": "stream",
     "text": [
      "Epoch [280/500], Loss: 0.0824\n"
     ]
    },
    {
     "name": "stderr",
     "output_type": "stream",
     "text": [
      "Epochs:  58%|█████▊    | 292/500 [00:28<00:20, 10.40it/s]"
     ]
    },
    {
     "name": "stdout",
     "output_type": "stream",
     "text": [
      "Epoch [290/500], Loss: 0.0811\n"
     ]
    },
    {
     "name": "stderr",
     "output_type": "stream",
     "text": [
      "Epochs:  60%|██████    | 302/500 [00:29<00:19, 10.11it/s]"
     ]
    },
    {
     "name": "stdout",
     "output_type": "stream",
     "text": [
      "Epoch [300/500], Loss: 0.0797\n"
     ]
    },
    {
     "name": "stderr",
     "output_type": "stream",
     "text": [
      "Epochs:  62%|██████▏   | 312/500 [00:30<00:18, 10.12it/s]"
     ]
    },
    {
     "name": "stdout",
     "output_type": "stream",
     "text": [
      "Epoch [310/500], Loss: 0.0786\n"
     ]
    },
    {
     "name": "stderr",
     "output_type": "stream",
     "text": [
      "Epochs:  64%|██████▍   | 322/500 [00:31<00:17, 10.09it/s]"
     ]
    },
    {
     "name": "stdout",
     "output_type": "stream",
     "text": [
      "Epoch [320/500], Loss: 0.0777\n"
     ]
    },
    {
     "name": "stderr",
     "output_type": "stream",
     "text": [
      "Epochs:  66%|██████▋   | 332/500 [00:32<00:16, 10.07it/s]"
     ]
    },
    {
     "name": "stdout",
     "output_type": "stream",
     "text": [
      "Epoch [330/500], Loss: 0.0773\n"
     ]
    },
    {
     "name": "stderr",
     "output_type": "stream",
     "text": [
      "Epochs:  68%|██████▊   | 341/500 [00:33<00:16,  9.75it/s]"
     ]
    },
    {
     "name": "stdout",
     "output_type": "stream",
     "text": [
      "Epoch [340/500], Loss: 0.0768\n"
     ]
    },
    {
     "name": "stderr",
     "output_type": "stream",
     "text": [
      "Epochs:  70%|███████   | 352/500 [00:34<00:14, 10.11it/s]"
     ]
    },
    {
     "name": "stdout",
     "output_type": "stream",
     "text": [
      "Epoch [350/500], Loss: 0.0763\n"
     ]
    },
    {
     "name": "stderr",
     "output_type": "stream",
     "text": [
      "Epochs:  72%|███████▏  | 361/500 [00:35<00:14,  9.29it/s]"
     ]
    },
    {
     "name": "stdout",
     "output_type": "stream",
     "text": [
      "Epoch [360/500], Loss: 0.0754\n"
     ]
    },
    {
     "name": "stderr",
     "output_type": "stream",
     "text": [
      "Epochs:  74%|███████▍  | 371/500 [00:36<00:13,  9.70it/s]"
     ]
    },
    {
     "name": "stdout",
     "output_type": "stream",
     "text": [
      "Epoch [370/500], Loss: 0.0748\n"
     ]
    },
    {
     "name": "stderr",
     "output_type": "stream",
     "text": [
      "Epochs:  76%|███████▌  | 381/500 [00:37<00:13,  9.14it/s]"
     ]
    },
    {
     "name": "stdout",
     "output_type": "stream",
     "text": [
      "Epoch [380/500], Loss: 0.0743\n"
     ]
    },
    {
     "name": "stderr",
     "output_type": "stream",
     "text": [
      "Epochs:  78%|███████▊  | 391/500 [00:38<00:12,  8.99it/s]"
     ]
    },
    {
     "name": "stdout",
     "output_type": "stream",
     "text": [
      "Epoch [390/500], Loss: 0.0750\n"
     ]
    },
    {
     "name": "stderr",
     "output_type": "stream",
     "text": [
      "Epochs:  80%|████████  | 401/500 [00:39<00:10,  9.23it/s]"
     ]
    },
    {
     "name": "stdout",
     "output_type": "stream",
     "text": [
      "Epoch [400/500], Loss: 0.0735\n"
     ]
    },
    {
     "name": "stderr",
     "output_type": "stream",
     "text": [
      "Epochs:  82%|████████▏ | 412/500 [00:40<00:08, 10.29it/s]"
     ]
    },
    {
     "name": "stdout",
     "output_type": "stream",
     "text": [
      "Epoch [410/500], Loss: 0.0728\n"
     ]
    },
    {
     "name": "stderr",
     "output_type": "stream",
     "text": [
      "Epochs:  84%|████████▍ | 421/500 [00:41<00:08,  9.29it/s]"
     ]
    },
    {
     "name": "stdout",
     "output_type": "stream",
     "text": [
      "Epoch [420/500], Loss: 0.0721\n"
     ]
    },
    {
     "name": "stderr",
     "output_type": "stream",
     "text": [
      "Epochs:  86%|████████▌ | 431/500 [00:42<00:07,  9.64it/s]"
     ]
    },
    {
     "name": "stdout",
     "output_type": "stream",
     "text": [
      "Epoch [430/500], Loss: 0.0716\n"
     ]
    },
    {
     "name": "stderr",
     "output_type": "stream",
     "text": [
      "Epochs:  88%|████████▊ | 441/500 [00:43<00:06,  9.48it/s]"
     ]
    },
    {
     "name": "stdout",
     "output_type": "stream",
     "text": [
      "Epoch [440/500], Loss: 0.0711\n"
     ]
    },
    {
     "name": "stderr",
     "output_type": "stream",
     "text": [
      "Epochs:  90%|█████████ | 451/500 [00:44<00:05,  9.47it/s]"
     ]
    },
    {
     "name": "stdout",
     "output_type": "stream",
     "text": [
      "Epoch [450/500], Loss: 0.0904\n"
     ]
    },
    {
     "name": "stderr",
     "output_type": "stream",
     "text": [
      "Epochs:  92%|█████████▏| 461/500 [00:46<00:04,  9.44it/s]"
     ]
    },
    {
     "name": "stdout",
     "output_type": "stream",
     "text": [
      "Epoch [460/500], Loss: 0.0765\n"
     ]
    },
    {
     "name": "stderr",
     "output_type": "stream",
     "text": [
      "Epochs:  94%|█████████▍| 472/500 [00:47<00:02,  9.89it/s]"
     ]
    },
    {
     "name": "stdout",
     "output_type": "stream",
     "text": [
      "Epoch [470/500], Loss: 0.0747\n"
     ]
    },
    {
     "name": "stderr",
     "output_type": "stream",
     "text": [
      "Epochs:  96%|█████████▌| 481/500 [00:48<00:02,  9.25it/s]"
     ]
    },
    {
     "name": "stdout",
     "output_type": "stream",
     "text": [
      "Epoch [480/500], Loss: 0.0714\n"
     ]
    },
    {
     "name": "stderr",
     "output_type": "stream",
     "text": [
      "Epochs:  98%|█████████▊| 491/500 [00:49<00:00,  9.77it/s]"
     ]
    },
    {
     "name": "stdout",
     "output_type": "stream",
     "text": [
      "Epoch [490/500], Loss: 0.0696\n"
     ]
    },
    {
     "name": "stderr",
     "output_type": "stream",
     "text": [
      "Epochs: 100%|██████████| 500/500 [00:50<00:00,  9.97it/s]\n"
     ]
    },
    {
     "name": "stdout",
     "output_type": "stream",
     "text": [
      "Epoch [500/500], Loss: 0.0691\n",
      "✅ Model saved: /mnt/d/projects/wind_pressure_prediction_2025/models/weights/mlp_5f_128h_500ep.pth\n",
      "✅ Configuration saved: /mnt/d/projects/wind_pressure_prediction_2025/models/configs/mlp_5f_128h_500ep.json\n",
      "📈 Evaluation metrics on test set:\n",
      "MSE: 0.0691\n",
      "MAE: 0.1841\n",
      "R2: 0.7228\n"
     ]
    },
    {
     "data": {
      "image/png": "[encoded data removed]",
      "text/plain": [
       "<Figure size 1800x500 with 3 Axes>"
      ]
     },
     "metadata": {},
     "output_type": "display_data"
    },
    {
     "name": "stdout",
     "output_type": "stream",
     "text": [
      "📊 Metric saved: /mnt/d/projects/wind_pressure_prediction_2025/results/figures/mlp_5f_128h_500ep_metrics.png\n"
     ]
    },
    {
     "data": {
      "text/plain": [
       "'/mnt/d/projects/wind_pressure_prediction_2025/results/figures/mlp_5f_128h_500ep_metrics.png'"
      ]
     },
     "execution_count": 15,
     "metadata": {},
     "output_type": "execute_result"
    }
   ],
   "source": [
    "# 📁 src/train/train_mlp.py\n",
    "# ➤ Full training pipeline for MLP model: data loading, training, evaluation, saving results\n",
    "\n",
    "df = load_dataset()\n",
    "X = df[['X_int', 'Y_int', 'X_fac', 'Y_fac', 'Ang']]\n",
    "y = df[['Mean']]\n",
    "INPUT_DIM = X.shape[1]\n",
    "\n",
    "HIDDEN_DIM = 128\n",
    "OUTPUT_DIM = 1\n",
    "LR = 0.005\n",
    "EPOCHS = 500\n",
    "BATCH_SIZE = 64\n",
    "\n",
    "model_name = f\"mlp_{INPUT_DIM}f_{HIDDEN_DIM}h_{EPOCHS}ep\"\n",
    "\n",
    "X_train, X_test, y_train, y_test = train_test_split(X, y, test_size=0.2)\n",
    "X_train = torch.tensor(X_train.values, dtype=torch.float32)\n",
    "X_test = torch.tensor(X_test.values, dtype=torch.float32)\n",
    "y_train = torch.tensor(y_train.values, dtype=torch.float32)\n",
    "y_test = torch.tensor(y_test.values, dtype=torch.float32)\n",
    "\n",
    "# Device selection\n",
    "device = torch.device(\"cuda\" if torch.cuda.is_available() else \"cpu\")\n",
    "print(f\"🖥 Используемое устройство: {device}\")\n",
    "model = MLP(INPUT_DIM, HIDDEN_DIM, OUTPUT_DIM).to(device)\n",
    "X_train = X_train.to(device)\n",
    "X_test = X_test.to(device)\n",
    "y_train = y_train.to(device)\n",
    "y_test = y_test.to(device)\n",
    "\n",
    "log_path = os.path.join(LOG_DIR, f\"{model_name}.txt\")\n",
    "with open(log_path, \"w\") as log_file:\n",
    "    log_file.write(\"Epoch\\tLoss\\n\")\n",
    "\n",
    "    train_indices = set(map(tuple, X_train.cpu().numpy()))\n",
    "    test_indices = set(map(tuple, X_test.cpu().numpy()))\n",
    "    intersection = train_indices.intersection(test_indices)\n",
    "    print(f\"Number of matching rows: {len(intersection)}\") \n",
    "\n",
    "    criterion = nn.MSELoss()\n",
    "    optimizer = optim.Adam(model.parameters(), lr=LR)\n",
    "    train_loss_history = []\n",
    "\n",
    "    for epoch in tqdm(range(EPOCHS), desc=\"Epochs\"):\n",
    "        model.train()\n",
    "        optimizer.zero_grad()\n",
    "        outputs = model(X_train)\n",
    "        loss = criterion(outputs, y_train)\n",
    "        loss.backward()\n",
    "        optimizer.step()\n",
    "\n",
    "        train_loss_history.append(loss.item())\n",
    "\n",
    "        if (epoch + 1) % 10 == 0:\n",
    "            log_str = f\"Epoch [{epoch+1}/{EPOCHS}], Loss: {loss.item():.4f}\"\n",
    "            print(log_str)\n",
    "            log_file.write(f\"{epoch+1}\\t{loss.item():.6f}\\n\")\n",
    "\n",
    "\n",
    "weights_path = os.path.join(WEIGHTS_DIR, f\"{model_name}.pth\")\n",
    "torch.save(model.state_dict(), weights_path)\n",
    "\n",
    "config = {\n",
    "    \"input_dim\": INPUT_DIM,\n",
    "    \"hidden_dim\": HIDDEN_DIM,\n",
    "    \"output_dim\": OUTPUT_DIM,\n",
    "    \"lr\": LR,\n",
    "    \"epochs\": EPOCHS,\n",
    "    \"batch_size\": BATCH_SIZE,\n",
    "    \"features\": ['X_int', 'Y_int', 'X_fac', 'Y_fac', 'Ang'],\n",
    "    \"targets\": ['Mean']\n",
    "}\n",
    "config_path = os.path.join(CONFIG_DIR, f\"{model_name}.json\")\n",
    "with open(config_path, \"w\") as f:\n",
    "    json.dump(config, f, indent=4)\n",
    "\n",
    "print(f\"✅ Model saved: {weights_path}\")\n",
    "print(f\"✅ Configuration saved: {config_path}\")\n",
    "\n",
    "model.eval()\n",
    "with torch.no_grad():\n",
    "    y_pred = model(X_test)\n",
    "    metrics = evaluate_regression(y_test, y_pred)\n",
    "\n",
    "print(\"📈 Evaluation metrics on test set:\")\n",
    "for name, value in metrics.items():\n",
    "    print(f\"{name}: {value:.4f}\")\n",
    "\n",
    "metrics_path = os.path.join(METRICS_DIR, f\"{model_name}.json\")\n",
    "metrics_clean = {k: float(v) for k, v in metrics.items()}\n",
    "\n",
    "with open(metrics_path, \"w\") as f:\n",
    "    json.dump(metrics_clean, f, indent=4)\n",
    "\n",
    "plot_metrics(\n",
    "    y_test,\n",
    "    y_pred,\n",
    "    train_loss_history=train_loss_history,\n",
    "    val_loss_history=[],  \n",
    "    model_name=model_name,\n",
    "    show=True \n",
    ")\n"
   ]
  }
 ],
 "metadata": {
  "kaggle": {
   "accelerator": "nvidiaTeslaT4",
   "dataSources": [
    {
     "datasetId": 7291909,
     "sourceId": 11623443,
     "sourceType": "datasetVersion"
    }
   ],
   "dockerImageVersionId": 31012,
   "isGpuEnabled": true,
   "isInternetEnabled": true,
   "language": "python",
   "sourceType": "notebook"
  },
  "kernelspec": {
   "display_name": "linux_wpp",
   "language": "python",
   "name": "python3"
  },
  "language_info": {
   "codemirror_mode": {
    "name": "ipython",
    "version": 3
   },
   "file_extension": ".py",
   "mimetype": "text/x-python",
   "name": "python",
   "nbconvert_exporter": "python",
   "pygments_lexer": "ipython3",
   "version": "3.12.3"
  },
  "papermill": {
   "default_parameters": {},
   "duration": 27.389716,
   "end_time": "2025-05-15T07:37:36.286966",
   "environment_variables": {},
   "exception": null,
   "input_path": "__notebook__.ipynb",
   "output_path": "__notebook__.ipynb",
   "parameters": {},
   "start_time": "2025-05-15T07:37:08.897250",
   "version": "2.6.0"
  }
 },
 "nbformat": 4,
 "nbformat_minor": 5
}
